{
 "cells": [
  {
   "cell_type": "code",
   "execution_count": 26,
   "metadata": {
    "collapsed": true
   },
   "outputs": [],
   "source": [
    "import scipy\n",
    "import numpy as np\n",
    "import pandas as pd\n",
    "import sklearn as sk\n",
    "from sklearn.svm import SVC"
   ]
  },
  {
   "cell_type": "code",
   "execution_count": 27,
   "metadata": {},
   "outputs": [],
   "source": [
    "\n",
    "class DataLoader(object):\n",
    "    def __init__(self,dir='data/'):\n",
    "        self.rawData=pd.read_csv(dir+'train.csv')\n",
    "        self.testData=pd.read_csv(dir+'test.csv')\n",
    "        self.dataTransformMap={\n",
    "            'COLLEGE':{\n",
    "                'zero':0,\n",
    "                'one':1\n",
    "            },\n",
    "            'REPORTED_SATISFACTION':{\n",
    "                'very_unsat':0,\n",
    "                'unsat':25,\n",
    "                'avg':50,\n",
    "                'sat':75,\n",
    "                'very_sat':100\n",
    "            },\n",
    "            'REPORTED_USAGE_LEVEL':{\n",
    "                'very_little':0,\n",
    "                'little':1,\n",
    "                'avg':2,\n",
    "                'high':3,\n",
    "                'very_high':4\n",
    "            },\n",
    "            'CONSIDERING_CHANGE_OF_PLAN':{\n",
    "                'considering':0,\n",
    "                'actively_looking_into_it':1,\n",
    "                'perhaps':2,\n",
    "                'no':3,\n",
    "                'never_thought':4\n",
    "            }\n",
    "        }\n",
    "\n",
    "        self.rawData.replace(inplace=True,to_replace=self.dataTransformMap)\n",
    "        self.testData.replace(inplace=True,to_replace=self.dataTransformMap)\n",
    "\n",
    "        self.features=list(self.rawData.columns)\n",
    "\n",
    "    def split(self,ratio=0.9):\n",
    "        '''\n",
    "        split the dataset (should be rawData) into train and val set, will shuffle the dataset each time called\n",
    "        :param ratio: ratio of train/val, 0.9 by default\n",
    "        :return: trainX,trainy,valX,valy\n",
    "        '''\n",
    "        n=self.rawData.__len__()\n",
    "        self.rawData.sample(frac=1).reset_index(drop=True)\n",
    "        trainNum=int(n*ratio)\n",
    "        valNum=n-trainNum\n",
    "        tx=self.rawData.head(trainNum)[self.features]\n",
    "        ty=self.rawData.head(trainNum)['LEAVE']\n",
    "        vx=self.rawData.tail(valNum)[self.features]\n",
    "        vy=self.rawData.tail(valNum)['LEAVE']\n",
    "\n",
    "        return tx,ty,vx,vy\n"
   ]
  },
  {
   "cell_type": "code",
   "execution_count": 28,
   "metadata": {
    "collapsed": true
   },
   "outputs": [],
   "source": [
    "class Classifier(object):\n",
    "    def __init__(self):\n",
    "        dataLoader=DataLoader()\n",
    "        self.trainX,self.trainY,self.valX,self.valY=dataLoader.split()\n",
    "        self.clf=SVC(probability=True)\n",
    "    def run(self):\n",
    "        self.clf.fit(self.trainX,self.trainY)\n",
    "\n",
    "    def predict(self):\n",
    "        predY=self.clf.predict(self.valX)\n",
    "        return predY\n",
    "    def evaluate(self,predY):\n",
    "        acc=sk.metrics.accuracy_score(self.valY,predY)\n",
    "        return acc\n"
   ]
  },
  {
   "cell_type": "code",
   "execution_count": 29,
   "metadata": {},
   "outputs": [
    {
     "name": "stdout",
     "output_type": "stream",
     "text": [
      "0.499444444444\n"
     ]
    }
   ],
   "source": [
    "c=Classifier()\n",
    "c.run()\n",
    "res=c.predict()\n",
    "acc=c.evaluate(res)\n",
    "print(acc)"
   ]
  },
  {
   "cell_type": "code",
   "execution_count": null,
   "metadata": {
    "collapsed": true
   },
   "outputs": [],
   "source": []
  },
  {
   "cell_type": "code",
   "execution_count": null,
   "metadata": {
    "collapsed": true
   },
   "outputs": [],
   "source": []
  }
 ],
 "metadata": {
  "kernelspec": {
   "display_name": "Python 3",
   "language": "python",
   "name": "python3"
  },
  "language_info": {
   "codemirror_mode": {
    "name": "ipython",
    "version": 3
   },
   "file_extension": ".py",
   "mimetype": "text/x-python",
   "name": "python",
   "nbconvert_exporter": "python",
   "pygments_lexer": "ipython3",
   "version": "3.6.3"
  }
 },
 "nbformat": 4,
 "nbformat_minor": 2
}
